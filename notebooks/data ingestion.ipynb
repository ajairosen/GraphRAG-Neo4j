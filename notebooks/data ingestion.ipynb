{
 "cells": [
  {
   "cell_type": "markdown",
   "metadata": {},
   "source": [
    "### Import Libraries"
   ]
  },
  {
   "cell_type": "code",
   "execution_count": 1,
   "metadata": {},
   "outputs": [
    {
     "data": {
      "text/plain": [
       "True"
      ]
     },
     "execution_count": 1,
     "metadata": {},
     "output_type": "execute_result"
    }
   ],
   "source": [
    "import pandas as pd\n",
    "from dotenv import load_dotenv\n",
    "import os\n",
    "load_dotenv()"
   ]
  },
  {
   "cell_type": "markdown",
   "metadata": {},
   "source": [
    "### Load Secrets from .env"
   ]
  },
  {
   "cell_type": "code",
   "execution_count": 2,
   "metadata": {},
   "outputs": [],
   "source": [
    "NEO4J_URI = os.getenv(\"NEO4J_URI\")\n",
    "NEO4J_USER = os.getenv(\"NEO4J_USERNAME\")\n",
    "NEO4J_PASSWORD = os.getenv(\"NEO4J_PASSWORD\")"
   ]
  },
  {
   "cell_type": "markdown",
   "metadata": {},
   "source": [
    "### Connect to Neo4j AuraDB"
   ]
  },
  {
   "cell_type": "code",
   "execution_count": 3,
   "metadata": {},
   "outputs": [],
   "source": [
    "from neo4j import GraphDatabase\n",
    "AUTH = (NEO4J_USER, NEO4J_PASSWORD)\n",
    "\n",
    "with GraphDatabase.driver(NEO4J_URI, auth=AUTH) as driver:\n",
    "    driver.verify_connectivity()"
   ]
  },
  {
   "cell_type": "markdown",
   "metadata": {},
   "source": [
    "## Load the data"
   ]
  },
  {
   "cell_type": "code",
   "execution_count": 4,
   "metadata": {},
   "outputs": [
    {
     "data": {
      "text/html": [
       "<div>\n",
       "<style scoped>\n",
       "    .dataframe tbody tr th:only-of-type {\n",
       "        vertical-align: middle;\n",
       "    }\n",
       "\n",
       "    .dataframe tbody tr th {\n",
       "        vertical-align: top;\n",
       "    }\n",
       "\n",
       "    .dataframe thead th {\n",
       "        text-align: right;\n",
       "    }\n",
       "</style>\n",
       "<table border=\"1\" class=\"dataframe\">\n",
       "  <thead>\n",
       "    <tr style=\"text-align: right;\">\n",
       "      <th></th>\n",
       "      <th>name</th>\n",
       "      <th>Age</th>\n",
       "      <th>Team</th>\n",
       "      <th>Overall rating</th>\n",
       "      <th>Potential</th>\n",
       "      <th>foot</th>\n",
       "      <th>Best overall</th>\n",
       "      <th>Best position</th>\n",
       "      <th>Best position expansion</th>\n",
       "      <th>Value</th>\n",
       "      <th>Wage</th>\n",
       "      <th>Release clause</th>\n",
       "    </tr>\n",
       "  </thead>\n",
       "  <tbody>\n",
       "    <tr>\n",
       "      <th>0</th>\n",
       "      <td>Ronaldinho</td>\n",
       "      <td>34</td>\n",
       "      <td>Querétaro</td>\n",
       "      <td>78</td>\n",
       "      <td>78</td>\n",
       "      <td>Right</td>\n",
       "      <td>77</td>\n",
       "      <td>CAM</td>\n",
       "      <td>Central Attacking Midfielder</td>\n",
       "      <td>4100000</td>\n",
       "      <td>45000</td>\n",
       "      <td>0.0</td>\n",
       "    </tr>\n",
       "    <tr>\n",
       "      <th>1</th>\n",
       "      <td>O. Hutchinson</td>\n",
       "      <td>19</td>\n",
       "      <td>Ipswich Town</td>\n",
       "      <td>65</td>\n",
       "      <td>81</td>\n",
       "      <td>Left</td>\n",
       "      <td>67</td>\n",
       "      <td>CAM</td>\n",
       "      <td>Central Attacking Midfielder</td>\n",
       "      <td>1800000</td>\n",
       "      <td>3000</td>\n",
       "      <td>4500000.0</td>\n",
       "    </tr>\n",
       "    <tr>\n",
       "      <th>2</th>\n",
       "      <td>Brahim</td>\n",
       "      <td>23</td>\n",
       "      <td>Real Madrid</td>\n",
       "      <td>82</td>\n",
       "      <td>86</td>\n",
       "      <td>Right</td>\n",
       "      <td>84</td>\n",
       "      <td>CAM</td>\n",
       "      <td>Central Attacking Midfielder</td>\n",
       "      <td>43500000</td>\n",
       "      <td>145000</td>\n",
       "      <td>92400000.0</td>\n",
       "    </tr>\n",
       "  </tbody>\n",
       "</table>\n",
       "</div>"
      ],
      "text/plain": [
       "            name  Age          Team  Overall rating  Potential   foot  \\\n",
       "0     Ronaldinho   34     Querétaro              78         78  Right   \n",
       "1  O. Hutchinson   19  Ipswich Town              65         81   Left   \n",
       "2         Brahim   23   Real Madrid              82         86  Right   \n",
       "\n",
       "   Best overall Best position       Best position expansion     Value    Wage  \\\n",
       "0            77           CAM  Central Attacking Midfielder   4100000   45000   \n",
       "1            67           CAM  Central Attacking Midfielder   1800000    3000   \n",
       "2            84           CAM  Central Attacking Midfielder  43500000  145000   \n",
       "\n",
       "   Release clause  \n",
       "0             0.0  \n",
       "1       4500000.0  \n",
       "2      92400000.0  "
      ]
     },
     "execution_count": 4,
     "metadata": {},
     "output_type": "execute_result"
    }
   ],
   "source": [
    "player_df=pd.read_excel('../processed_data/Football_players_data.xlsx')\n",
    "player_df.head(3)"
   ]
  },
  {
   "cell_type": "code",
   "execution_count": 5,
   "metadata": {},
   "outputs": [
    {
     "data": {
      "text/plain": [
       "Index(['name', 'Age', 'Team', 'Overall rating', 'Potential', 'foot',\n",
       "       'Best overall', 'Best position', 'Best position expansion', 'Value',\n",
       "       'Wage', 'Release clause'],\n",
       "      dtype='object')"
      ]
     },
     "execution_count": 5,
     "metadata": {},
     "output_type": "execute_result"
    }
   ],
   "source": [
    "player_df.columns"
   ]
  },
  {
   "cell_type": "markdown",
   "metadata": {},
   "source": [
    "### Write Cypher query for data ingestion"
   ]
  },
  {
   "cell_type": "code",
   "execution_count": 7,
   "metadata": {},
   "outputs": [
    {
     "name": "stderr",
     "output_type": "stream",
     "text": [
      "C:\\Users\\COMP\\AppData\\Local\\Temp\\ipykernel_11680\\749652669.py:69: DeprecationWarning: Using a driver after it has been closed is deprecated. Future versions of the driver will raise an error.\n",
      "  with driver.session() as session:\n"
     ]
    }
   ],
   "source": [
    "def insert_player_data(tx, row):\n",
    "    tx.run('''\n",
    "        // Create or merge Player node\n",
    "        MERGE (player:Player {name: $name})\n",
    "        ON CREATE SET \n",
    "            player.age = $Age,\n",
    "            player.overall_rating = $`Overall rating`,\n",
    "            player.potential = $Potential,\n",
    "            player.best_overall = $`Best overall`,\n",
    "            player.value = $Value,\n",
    "            player.wage = $Wage,\n",
    "            player.release_clause = $`Release clause`\n",
    "\n",
    "        // Create or merge Club node\n",
    "        MERGE (club:Club {name: $Team})\n",
    "        \n",
    "        // Define the relationship between Player and Club\n",
    "        MERGE (player)-[:PLAYS_FOR {since: date()}]->(club)\n",
    "\n",
    "        // Create or merge Foot node\n",
    "        MERGE (foot:Foot {type: $foot})\n",
    "        \n",
    "        // Define the relationship between Player and Foot\n",
    "        MERGE (player)-[:USES_FOOT]->(foot)\n",
    "\n",
    "        // Create or merge Best Position node\n",
    "        MERGE (position:Position {name: $`Best position`})\n",
    "        \n",
    "        // Define the relationship between Player and Position\n",
    "        MERGE (player)-[:PLAYS_AS]->(position)\n",
    "\n",
    "        // Create or merge Role node\n",
    "        MERGE (role:Role {name: $`Best position expansion`})\n",
    "        \n",
    "        // Define the relationship between Player and Role\n",
    "        MERGE (player)-[:HAS_ROLE]->(role)\n",
    "\n",
    "        // Add relationships to numeric performance attributes\n",
    "        MERGE (performance:Performance {\n",
    "            overall_rating: $`Overall rating`,\n",
    "            potential: $Potential,\n",
    "            best_overall: $`Best overall`\n",
    "        })\n",
    "        MERGE (player)-[:HAS_PERFORMANCE]->(performance)\n",
    "\n",
    "        // Add relationships for financial details\n",
    "        MERGE (financials:Financials {\n",
    "            value: $Value,\n",
    "            wage: $Wage,\n",
    "            release_clause: $`Release clause`\n",
    "        })\n",
    "        MERGE (player)-[:HAS_FINANCIALS]->(financials)\n",
    "\n",
    "        // Create or merge AgeGroup node\n",
    "        WITH\n",
    "            CASE\n",
    "                WHEN $Age < 20 THEN 'Teenager'\n",
    "                WHEN $Age >= 20 AND $Age <= 25 THEN 'Young Adult'\n",
    "                WHEN $Age > 25 AND $Age <= 30 THEN 'Prime'\n",
    "                ELSE 'Veteran'\n",
    "            END AS age_group\n",
    "        MERGE (ageGroup:AgeGroup {name: age_group})\n",
    "\n",
    "        // Define the relationship between Player and AgeGroup\n",
    "        MERGE (player)-[:BELONGS_TO_AGE_GROUP]->(ageGroup)\n",
    "    ''', row)\n",
    "\n",
    "# Iterate through the DataFrame and insert data into Neo4j\n",
    "with driver.session() as session:\n",
    "    for _, row in player_df.iterrows():\n",
    "        # Convert row to dictionary\n",
    "        row_dict = row.to_dict()\n",
    "        \n",
    "        # Ensure numeric fields are properly converted to numbers\n",
    "        numeric_fields = [\n",
    "            'Age', 'Overall rating', 'Potential', 'Best overall', \n",
    "            'Value', 'Wage', 'Release clause'\n",
    "        ]\n",
    "        for field in numeric_fields:\n",
    "            row_dict[field] = float(row_dict.get(field, 0))  # Default to 0 if value is missing\n",
    "        \n",
    "        # Write transaction\n",
    "        session.execute_write(insert_player_data, row_dict)\n"
   ]
  }
 ],
 "metadata": {
  "kernelspec": {
   "display_name": ".venv",
   "language": "python",
   "name": "python3"
  },
  "language_info": {
   "codemirror_mode": {
    "name": "ipython",
    "version": 3
   },
   "file_extension": ".py",
   "mimetype": "text/x-python",
   "name": "python",
   "nbconvert_exporter": "python",
   "pygments_lexer": "ipython3",
   "version": "3.11.5"
  }
 },
 "nbformat": 4,
 "nbformat_minor": 2
}
